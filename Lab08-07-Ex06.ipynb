{
 "cells": [
  {
   "cell_type": "markdown",
   "metadata": {
    "dotnet_interactive": {
     "language": "csharp"
    },
    "polyglot_notebook": {
     "kernelName": "csharp"
    }
   },
   "source": [
    "# Lab 8 Exercise 6\n",
    "\n",
    "## Method with parameter"
   ]
  },
  {
   "cell_type": "markdown",
   "metadata": {},
   "source": [
    "1. สร้าง console application project\n",
    "\n",
    "```\n",
    "    dotnet new console --name Lab08_Ex06\n",
    "```\n"
   ]
  },
  {
   "cell_type": "markdown",
   "metadata": {},
   "source": [
    "2. เปลี่ยน code ให้เป็นดังต่อไปนี้\n",
    "\n",
    "> ```csharp\n",
    "> 1. var mc = new MyClass();\n",
    "> 2. mc.DisplayParam(3, 4);\n",
    "> 3. class MyClass\n",
    "> 4. {\n",
    "> 5.     public void DisplayParam(int a, int b)\n",
    "> 6.     {\n",
    "> 7.         System.Console.WriteLine($\"a = {a}, b = {b}\");\n",
    "> 8.     } \n",
    "> 9. }\n",
    "> ```\n",
    "\n"
   ]
  },
  {
   "cell_type": "markdown",
   "metadata": {},
   "source": [
    "3. Build project โดยการใช้คำสั่ง\n",
    "\n",
    "```\n",
    "    dotnet build  Lab08_Ex06\n",
    "```"
   ]
  },
  {
   "cell_type": "markdown",
   "metadata": {},
   "source": [
    "4. บันทึกผลที่ได้จากการรันคำสั่งในข้อ 3\n",
    "\n"
   ]
  },
  {
   "cell_type": "markdown",
   "metadata": {},
   "source": [
    "*คำตอบ*"
   ]
  },
  {
   "cell_type": "markdown",
   "metadata": {},
   "source": [
    "Restore complete (0.3s)\n",
    "  Lab08_Ex06 succeeded (0.5s) → Lab08_Ex06\\bin\\Debug\\net9.0\\Lab08_Ex06.dll\n",
    "\n",
    "Build succeeded in 1.4s"
   ]
  },
  {
   "cell_type": "markdown",
   "metadata": {},
   "source": []
  },
  {
   "cell_type": "markdown",
   "metadata": {},
   "source": [
    "5. Run project โดยการใช้คำสั่ง\n",
    "\n",
    "```\n",
    "    dotnet run --project Lab08_Ex06\n",
    "```"
   ]
  },
  {
   "cell_type": "markdown",
   "metadata": {},
   "source": [
    "6. บันทึกผลที่ได้จากการรันคำสั่งในข้อ 5\n",
    "\n",
    "\n"
   ]
  },
  {
   "cell_type": "markdown",
   "metadata": {},
   "source": [
    "*คำตอบ*"
   ]
  },
  {
   "cell_type": "markdown",
   "metadata": {},
   "source": [
    "a = 3, b = 4"
   ]
  },
  {
   "cell_type": "markdown",
   "metadata": {},
   "source": []
  },
  {
   "cell_type": "markdown",
   "metadata": {},
   "source": [
    "7. อธิบายสิ่งที่พบในการทดลอง\n"
   ]
  },
  {
   "cell_type": "markdown",
   "metadata": {},
   "source": [
    "*คำตอบ*"
   ]
  },
  {
   "cell_type": "markdown",
   "metadata": {},
   "source": []
  },
  {
   "cell_type": "markdown",
   "metadata": {},
   "source": [
    "8. นำ code ในข้อ 2 มารันบน polyglot notebook  โดยใส่ใน  code cell ด้านล่างนี้\n"
   ]
  },
  {
   "cell_type": "code",
   "execution_count": 1,
   "metadata": {
    "polyglot_notebook": {
     "kernelName": "csharp"
    }
   },
   "outputs": [
    {
     "name": "stdout",
     "output_type": "stream",
     "text": [
      "a = 3, b = 4\r\n"
     ]
    }
   ],
   "source": [
    "// พื้นที่เขียน code ตามข้อ 2\n",
    " var mc = new MyClass();\n",
    " mc.DisplayParam(3, 4);\n",
    " class MyClass\n",
    " {\n",
    "     public void DisplayParam(int a, int b)\n",
    "     {\n",
    "         System.Console.WriteLine($\"a = {a}, b = {b}\");\n",
    "     } \n",
    " }"
   ]
  },
  {
   "cell_type": "markdown",
   "metadata": {},
   "source": [
    "8.1 ผลการรันเป็นอย่างไร\n",
    "\n"
   ]
  },
  {
   "cell_type": "markdown",
   "metadata": {},
   "source": [
    "*คำตอบ*"
   ]
  },
  {
   "cell_type": "markdown",
   "metadata": {},
   "source": [
    "a = 3, b = 4"
   ]
  },
  {
   "cell_type": "markdown",
   "metadata": {},
   "source": []
  },
  {
   "cell_type": "markdown",
   "metadata": {},
   "source": [
    "8.2 เหมือนหรือต่างจาก console application อย่างไร"
   ]
  },
  {
   "cell_type": "markdown",
   "metadata": {},
   "source": [
    "*คำตอบ*"
   ]
  },
  {
   "cell_type": "markdown",
   "metadata": {},
   "source": [
    "Logic ของโค้ดในทั้งสองสภาพแวดล้อมเหมือนกัน\n",
    "\n",
    "การแสดงผล จะต่างกันระหว่าง Console Application (ที่แสดงผลในหน้าต่างคอนโซล) และ Polyglot Notebook (ที่แสดงผลใน output ของ cell)"
   ]
  },
  {
   "cell_type": "markdown",
   "metadata": {},
   "source": []
  },
  {
   "cell_type": "markdown",
   "metadata": {},
   "source": [
    "## คำถาม"
   ]
  },
  {
   "cell_type": "markdown",
   "metadata": {},
   "source": [
    "1. Method with parameter คืออะไร\n"
   ]
  },
  {
   "cell_type": "markdown",
   "metadata": {},
   "source": [
    "*คำตอบ*"
   ]
  },
  {
   "cell_type": "markdown",
   "metadata": {},
   "source": [
    "Method with parameter คือ เมธอด (ฟังก์ชัน) ที่รับค่าหรือข้อมูล (parameters) จากภายนอก เพื่อทำการประมวลผลหรือคำนวณตามค่าที่ได้รับมา\n",
    "\n",
    "อธิบาย:\n",
    "ในภาษา C# การประกาศเมธอดที่มีพารามิเตอร์ (parameters) คือการที่เมธอดนั้นต้องการค่าจากภายนอกเมธอดเพื่อทำการประมวลผล เช่น เมื่อคุณต้องการให้เมธอดสามารถคำนวณหรือทำงานต่างๆ โดยใช้ข้อมูลที่ถูกส่งไปให้เมธอดนั้นๆ"
   ]
  },
  {
   "cell_type": "markdown",
   "metadata": {},
   "source": []
  },
  {
   "cell_type": "markdown",
   "metadata": {},
   "source": [
    "2. ทำไมเราต้องใช้ parameter ใน method\n"
   ]
  },
  {
   "cell_type": "markdown",
   "metadata": {},
   "source": [
    "*คำตอบ*"
   ]
  },
  {
   "cell_type": "markdown",
   "metadata": {},
   "source": [
    "การใช้ parameter ใน method ทำให้เมธอดนั้น:\n",
    "\n",
    "ยืดหยุ่น สามารถรับค่าหลายประเภทได้\n",
    "\n",
    "สามารถใช้งานซ้ำ กับข้อมูลที่แตกต่างกันได้\n",
    "\n",
    "ช่วยลดความซ้ำซ้อน และทำให้โค้ดดูเรียบร้อยขึ้น\n",
    "\n",
    "จัดการข้อมูลหลายประเภท ในเมธอดเดียวได้"
   ]
  },
  {
   "cell_type": "markdown",
   "metadata": {},
   "source": []
  },
  {
   "cell_type": "markdown",
   "metadata": {},
   "source": [
    "3. parameter และ argument แตกต่างกันอย่างไร\n"
   ]
  },
  {
   "cell_type": "markdown",
   "metadata": {},
   "source": [
    "*คำตอบ*"
   ]
  },
  {
   "cell_type": "markdown",
   "metadata": {},
   "source": [
    "Parameter คือ ตัวแปรที่ประกาศในส่วนหัวของเมธอดเพื่อรับค่า\n",
    "\n",
    "Argument คือ ค่าที่ถูกส่งให้พารามิเตอร์ของเมธอดในขณะเรียกใช้งาน\n",
    "\n",
    "การใช้ parameters ช่วยให้เมธอดสามารถรับข้อมูลจากภายนอกมาใช้งานได้, ขณะที่ arguments คือตัวค่าจริงที่ถูกส่งไปให้เมธอดนั้นๆ เมื่อถูกเรียกใช้งาน"
   ]
  },
  {
   "cell_type": "markdown",
   "metadata": {},
   "source": []
  },
  {
   "cell_type": "markdown",
   "metadata": {},
   "source": [
    "4. ส่วนประกอบของ method ที่มี parameter มีอะไรบ้าง\n"
   ]
  },
  {
   "cell_type": "markdown",
   "metadata": {},
   "source": [
    "*คำตอบ*"
   ]
  },
  {
   "cell_type": "markdown",
   "metadata": {},
   "source": [
    "สรุปส่วนประกอบของ Method ที่มี Parameter:\n",
    "Return Type: ประเภทของค่าที่จะส่งกลับจากเมธอด\n",
    "\n",
    "Method Name: ชื่อเมธอด\n",
    "\n",
    "Parameters: พารามิเตอร์ที่รับค่าจากภายนอกเมธอด\n",
    "\n",
    "Method Body: บล็อกของโค้ดที่เมธอดทำงาน\n",
    "\n",
    "Optional Modifiers: ตัวปรับแต่ง (เช่น public, static, void, เป็นต้น)\n",
    "\n",
    "การใช้ parameter ช่วยให้เมธอดมีความยืดหยุ่นในการรับข้อมูลจากภายนอกเพื่อทำงานได้หลายๆ กรณี โดยไม่ต้องเขียนโค้ดซ้ำ"
   ]
  },
  {
   "cell_type": "markdown",
   "metadata": {},
   "source": []
  },
  {
   "cell_type": "markdown",
   "metadata": {},
   "source": [
    "5. เมื่อไหร่ควรใช้ method ที่มี parameter"
   ]
  },
  {
   "cell_type": "markdown",
   "metadata": {},
   "source": [
    "*คำตอบ*"
   ]
  },
  {
   "cell_type": "markdown",
   "metadata": {},
   "source": [
    "สรุปเมื่อไหร่ควรใช้ method ที่มี parameter:\n",
    "เมื่อต้องการให้เมธอดทำงานกับข้อมูลที่แตกต่างกัน เช่น การคำนวณหรือการแสดงผล\n",
    "\n",
    "เมื่อต้องการลดการเขียนโค้ดซ้ำซ้อน โดยการใช้พารามิเตอร์ในเมธอดเดียว\n",
    "\n",
    "เมื่อต้องการให้เมธอดมีความยืดหยุ่นในการรับค่าจากภายนอก\n",
    "\n",
    "เมื่อต้องการทำงานซ้ำกับข้อมูลหลายชุด\n",
    "\n",
    "เมื่อต้องการให้เมธอดรับข้อมูลจากภายนอกเพื่อการประมวลผล\n",
    "\n",
    "การใช้พารามิเตอร์ทำให้เมธอดของคุณมีความยืดหยุ่นและมีประสิทธิภาพมากขึ้น โดยเฉพาะในกรณีที่เมธอดจะทำงานกับข้อมูลที่แตกต่างกันในการเรียกใช้งานแต่ละครั้ง"
   ]
  },
  {
   "cell_type": "markdown",
   "metadata": {},
   "source": []
  },
  {
   "cell_type": "markdown",
   "metadata": {},
   "source": [
    "6. ถ้าแก้ไขโค้ดในบรรทัดที่ 2 เป็นดังต่อไปนี้  จะได้ผลการ build หรือ run เป็นอย่างไร ให้แสดง output ที่โปรแกรมแสดงออกมา\n",
    "```csharp\n",
    "    mc.DisplayParam(3.5, 4.2);\n",
    "```\n"
   ]
  },
  {
   "cell_type": "code",
   "execution_count": 2,
   "metadata": {
    "polyglot_notebook": {
     "kernelName": "csharp"
    }
   },
   "outputs": [
    {
     "ename": "Error",
     "evalue": "(3,18): error CS1503: Argument 1: cannot convert from 'double' to 'int'\r\n(3,23): error CS1503: Argument 2: cannot convert from 'double' to 'int'",
     "output_type": "error",
     "traceback": [
      "(3,18): error CS1503: Argument 1: cannot convert from 'double' to 'int'\r\n",
      "(3,23): error CS1503: Argument 2: cannot convert from 'double' to 'int'"
     ]
    }
   ],
   "source": [
    "// พื้นที่เขียน code และทดสอบ\n",
    " var mc = new MyClass();\n",
    " mc.DisplayParam(3.5, 4.2);\n",
    " class MyClass\n",
    " {\n",
    "     public void DisplayParam(int a, int b)\n",
    "     {\n",
    "         System.Console.WriteLine($\"a = {a}, b = {b}\");\n",
    "     } \n",
    " }"
   ]
  },
  {
   "cell_type": "markdown",
   "metadata": {},
   "source": [
    "*คำตอบ*"
   ]
  },
  {
   "cell_type": "markdown",
   "metadata": {},
   "source": [
    "Error: (3,18): error CS1503: Argument 1: cannot convert from 'double' to 'int'\n",
    "(3,23): error CS1503: Argument 2: cannot convert from 'double' to 'int'"
   ]
  },
  {
   "cell_type": "markdown",
   "metadata": {},
   "source": []
  },
  {
   "cell_type": "markdown",
   "metadata": {},
   "source": [
    "7. ถ้าแก้ไขโค้ดในบรรทัดที่ 2 เป็นดังต่อไปนี้  จะได้ผลการ build หรือ run เป็นอย่างไร ให้แสดง output ที่โปรแกรมแสดงออกมา\n",
    "```csharp\n",
    "    mc.DisplayParam(\"Hello\", \"World\");\n",
    "```"
   ]
  },
  {
   "cell_type": "code",
   "execution_count": 3,
   "metadata": {
    "polyglot_notebook": {
     "kernelName": "csharp"
    }
   },
   "outputs": [
    {
     "ename": "Error",
     "evalue": "(3,18): error CS1503: Argument 1: cannot convert from 'string' to 'int'\r\n(3,27): error CS1503: Argument 2: cannot convert from 'string' to 'int'",
     "output_type": "error",
     "traceback": [
      "(3,18): error CS1503: Argument 1: cannot convert from 'string' to 'int'\r\n",
      "(3,27): error CS1503: Argument 2: cannot convert from 'string' to 'int'"
     ]
    }
   ],
   "source": [
    "// พื้นที่เขียน code และทดสอบ\n",
    " var mc = new MyClass();\n",
    " mc.DisplayParam(\"Hello\", \"World\");\n",
    " class MyClass\n",
    " {\n",
    "     public void DisplayParam(int a, int b)\n",
    "     {\n",
    "         System.Console.WriteLine($\"a = {a}, b = {b}\");\n",
    "     } \n",
    " }"
   ]
  },
  {
   "cell_type": "markdown",
   "metadata": {},
   "source": [
    "*คำตอบ*"
   ]
  },
  {
   "cell_type": "markdown",
   "metadata": {},
   "source": [
    "Error: (3,18): error CS1503: Argument 1: cannot convert from 'string' to 'int'\n",
    "(3,27): error CS1503: Argument 2: cannot convert from 'string' to 'int"
   ]
  },
  {
   "cell_type": "markdown",
   "metadata": {},
   "source": []
  },
  {
   "cell_type": "markdown",
   "metadata": {},
   "source": [
    "8. จงเขียน method ที่ตรวจสอบว่าตัวเลขที่รับเข้ามาเป็นจำนวนคู่หรือจำนวนคี่ และแสดงผลลัพธ์ทางหน้าจอ"
   ]
  },
  {
   "cell_type": "code",
   "execution_count": 4,
   "metadata": {
    "dotnet_interactive": {
     "language": "csharp"
    },
    "polyglot_notebook": {
     "kernelName": "csharp"
    }
   },
   "outputs": [],
   "source": [
    "// พื้นที่เขียน code และทดสอบ\n",
    "using System;\n",
    "\n",
    "class MyClass\n",
    "{\n",
    "    // Method ที่ตรวจสอบว่าตัวเลขเป็นจำนวนคู่หรือคี่\n",
    "    public void CheckEvenOrOdd(int number)\n",
    "    {\n",
    "        if (number % 2 == 0)  // หากหารด้วย 2 ลงตัวแสดงว่าเป็นจำนวนคู่\n",
    "        {\n",
    "            Console.WriteLine($\"{number} is even.\");\n",
    "        }\n",
    "        else  // หากไม่ลงตัวแสดงว่าเป็นจำนวนคี่\n",
    "        {\n",
    "            Console.WriteLine($\"{number} is odd.\");\n",
    "        }\n",
    "    }\n",
    "}\n",
    "\n",
    "class Program\n",
    "{\n",
    "    static void Main()\n",
    "    {\n",
    "        MyClass mc = new MyClass();\n",
    "        \n",
    "        // ทดสอบการใช้งานเมธอด CheckEvenOrOdd\n",
    "        mc.CheckEvenOrOdd(3);  // Output: 3 is odd.\n",
    "        mc.CheckEvenOrOdd(4);  // Output: 4 is even.\n",
    "    }\n",
    "}\n"
   ]
  },
  {
   "cell_type": "markdown",
   "metadata": {},
   "source": [
    "*คำตอบ*"
   ]
  },
  {
   "cell_type": "markdown",
   "metadata": {},
   "source": []
  }
 ],
 "metadata": {
  "kernelspec": {
   "display_name": ".NET (C#)",
   "language": "C#",
   "name": ".net-csharp"
  },
  "polyglot_notebook": {
   "kernelInfo": {
    "defaultKernelName": "csharp",
    "items": [
     {
      "aliases": [],
      "languageName": "csharp",
      "name": "csharp"
     }
    ]
   }
  }
 },
 "nbformat": 4,
 "nbformat_minor": 2
}
