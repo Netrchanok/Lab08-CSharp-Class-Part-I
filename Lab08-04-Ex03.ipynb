{
 "cells": [
  {
   "cell_type": "markdown",
   "metadata": {
    "dotnet_interactive": {
     "language": "csharp"
    },
    "polyglot_notebook": {
     "kernelName": "csharp"
    }
   },
   "source": [
    "# Lab 8 Exercise 3\n",
    "\n",
    "## การควบคุมการเข้าถึงสมาชิกในคลาส (fields)\n"
   ]
  },
  {
   "cell_type": "markdown",
   "metadata": {},
   "source": [
    "\n",
    "1. สร้าง console application project\n",
    "\n",
    "> ```\n",
    ">     dotnet new console --name Lab08_Ex03\n",
    "> ```\n"
   ]
  },
  {
   "cell_type": "markdown",
   "metadata": {},
   "source": [
    "\n",
    "2. เปลี่ยน code ให้เป็นดังต่อไปนี้\n",
    "\n",
    "> ```csharp\n",
    ">  1. Person p = new Person();\n",
    ">  2. p.name = \"Rambo\";\n",
    ">  3. p.id = \"1987\";\n",
    ">  4. p.income = 2500;\n",
    ">  5. System.Console.WriteLine($\"Type of p is {p.GetType()}\");\n",
    ">  6. System.Console.WriteLine($\"p.name = {p.name}\\ttype = {p.name.GetType()}\");\n",
    ">  7. System.Console.WriteLine($\"p.id = {p.id}\\ttype = {p.id.GetType()}\");\n",
    ">  8. System.Console.WriteLine($\"p.income = {p.income}\\ttype = {p.income.GetType()}\");\n",
    ">  9. \n",
    "> 10. class Person\n",
    "> 11. {\n",
    "> 12.     public string? name;\n",
    "> 13.     public string? id;\n",
    "> 14.     public int income;\n",
    "> 15. }\n",
    "> ```"
   ]
  },
  {
   "cell_type": "markdown",
   "metadata": {},
   "source": [
    "\n",
    "3. Build project โดยการใช้คำสั่ง\n",
    "\n",
    "> ```\n",
    ">     dotnet build  Lab08_Ex03\n",
    "> ```\n"
   ]
  },
  {
   "cell_type": "markdown",
   "metadata": {},
   "source": [
    "\n",
    "4. บันทึกผลที่ได้จากการรันคำสั่งในข้อ 3\n"
   ]
  },
  {
   "cell_type": "markdown",
   "metadata": {},
   "source": [
    "*คำตอบ*"
   ]
  },
  {
   "cell_type": "markdown",
   "metadata": {},
   "source": [
    "Restore complete (0.3s)\n",
    "  Lab08_Ex03 succeeded (2.3s) → Lab08_Ex03\\bin\\Debug\\net9.0\\Lab08_Ex03.dll\n",
    "\n",
    "Build succeeded in 3.2s"
   ]
  },
  {
   "cell_type": "markdown",
   "metadata": {},
   "source": []
  },
  {
   "cell_type": "markdown",
   "metadata": {},
   "source": [
    "\n",
    "5. Run project โดยการใช้คำสั่ง\n",
    "\n",
    "> ```\n",
    ">     dotnet run --project Lab08_Ex03\n",
    "> ```\n"
   ]
  },
  {
   "cell_type": "markdown",
   "metadata": {},
   "source": [
    "\n",
    "6. บันทึกผลที่ได้จากการรันคำสั่งในข้อ 5\n"
   ]
  },
  {
   "cell_type": "markdown",
   "metadata": {},
   "source": [
    "*คำตอบ*"
   ]
  },
  {
   "cell_type": "markdown",
   "metadata": {},
   "source": [
    "Type of p is Person\n",
    "p.name = Rambo  type = System.String\n",
    "p.id = 1987     type = System.String\n",
    "p.income = 2500 type = System.Int32"
   ]
  },
  {
   "cell_type": "markdown",
   "metadata": {},
   "source": []
  },
  {
   "cell_type": "markdown",
   "metadata": {},
   "source": [
    "7. นำโค้ดในข้อ 2  มารันใน code cell\n",
    "\n"
   ]
  },
  {
   "cell_type": "code",
   "execution_count": 1,
   "metadata": {
    "polyglot_notebook": {
     "kernelName": "csharp"
    }
   },
   "outputs": [
    {
     "name": "stdout",
     "output_type": "stream",
     "text": [
      "Type of p is Submission#1+Person\n",
      "p.name = Rambo\ttype = System.String\n",
      "p.id = 1987\ttype = System.String\n",
      "p.income = 2500\ttype = System.Int32\n"
     ]
    }
   ],
   "source": [
    "// code cell สำหรับทดสอบโปรแกรมในข้อ 2 บน polyglot\n",
    " Person p = new Person();\n",
    " p.name = \"Rambo\";\n",
    " p.id = \"1987\";\n",
    " p.income = 2500;\n",
    " System.Console.WriteLine($\"Type of p is {p.GetType()}\");\n",
    " System.Console.WriteLine($\"p.name = {p.name}\\ttype = {p.name.GetType()}\");\n",
    " System.Console.WriteLine($\"p.id = {p.id}\\ttype = {p.id.GetType()}\");\n",
    " System.Console.WriteLine($\"p.income = {p.income}\\ttype = {p.income.GetType()}\");\n",
    " \n",
    " class Person\n",
    " {\n",
    "     public string? name;\n",
    "     public string? id;\n",
    "     public int income;\n",
    " }"
   ]
  },
  {
   "cell_type": "markdown",
   "metadata": {},
   "source": [
    "## คำถาม"
   ]
  },
  {
   "cell_type": "markdown",
   "metadata": {},
   "source": [
    "1. Access modifier ในภาษา C# คืออะไร\n"
   ]
  },
  {
   "cell_type": "markdown",
   "metadata": {},
   "source": [
    "*คำตอบ*"
   ]
  },
  {
   "cell_type": "markdown",
   "metadata": {},
   "source": [
    "Access Modifier คือคำสั่งในภาษา C# ที่ใช้ในการควบคุม การเข้าถึง (Access) ของสมาชิกในคลาส เช่น Field, Property, Method, หรือ Class จากภายนอกคลาสหรือจากคลาสอื่นๆ โดยสามารถกำหนดได้ว่าใครสามารถเข้าถึงหรือใช้งานสมาชิกเหล่านั้นได้บ้าง\n",
    "\n"
   ]
  },
  {
   "cell_type": "markdown",
   "metadata": {},
   "source": []
  },
  {
   "cell_type": "markdown",
   "metadata": {},
   "source": [
    "2. จงอธิบายขอบเขตและการใช้งานของ Access modifier ต่อไปนี้ \n"
   ]
  },
  {
   "cell_type": "markdown",
   "metadata": {},
   "source": [
    "2.1  public\n"
   ]
  },
  {
   "cell_type": "markdown",
   "metadata": {},
   "source": [
    "*คำตอบ*"
   ]
  },
  {
   "cell_type": "markdown",
   "metadata": {},
   "source": [
    "ขอบเขตและการใช้งานของ public Access Modifier\n",
    "🔹 ขอบเขตของ public\n",
    "public เป็น Access Modifier ที่ให้ การเข้าถึงได้จากทุกที่ในโปรแกรม ไม่ว่าจะเป็นใน คลาสเดียวกัน, คลาสต่างๆ หรือ โปรเจคอื่นๆ ที่ใช้งาน Assembly เดียวกันหรือต่างกัน\n",
    "\n",
    "สมาชิก (Field, Property, Method) ที่ถูกประกาศเป็น public สามารถถูกเข้าถึงจาก ภายนอกคลาส ได้ทั้งหมด\n",
    "\n",
    "🔹 การใช้งาน public\n",
    "การประกาศ Field, Property, หรือ Method ที่ต้องการให้เข้าถึงได้จากทุกที่\n",
    "\n",
    "ใช้เมื่อคุณต้องการให้สมาชิกนั้นๆ สามารถเข้าถึงได้จากทุกๆ คลาสหรือโปรแกรมที่สามารถเข้าถึง Assembly ที่มันอยู่\n",
    "\n",
    "สามารถเข้าถึงสมาชิก public ได้แม้จะอยู่ใน คลาสที่แตกต่าง หรือแม้กระทั่ง โปรเจคอื่นๆ"
   ]
  },
  {
   "cell_type": "markdown",
   "metadata": {},
   "source": []
  },
  {
   "cell_type": "markdown",
   "metadata": {},
   "source": [
    "2.2 private\n"
   ]
  },
  {
   "cell_type": "markdown",
   "metadata": {},
   "source": [
    "*คำตอบ*"
   ]
  },
  {
   "cell_type": "markdown",
   "metadata": {},
   "source": [
    "ขอบเขตและการใช้งานของ private Access Modifier\n",
    "🔹 ขอบเขตของ private\n",
    "private เป็น Access Modifier ที่ จำกัดการเข้าถึง สมาชิกของคลาสนั้นๆ เฉพาะภายใน คลาสเดียวกัน เท่านั้น\n",
    "\n",
    "ไม่สามารถเข้าถึงจากภายนอกคลาสได้ ไม่ว่าจะเป็นจาก คลาสอื่นๆ หรือแม้กระทั่ง โปรเจคอื่นๆ\n",
    "\n",
    "ใช้เพื่อป้องกันไม่ให้ข้อมูลหรือฟังก์ชันถูกใช้งานจากภายนอกคลาสโดยไม่ตั้งใจ\n",
    "\n",
    "🔹 การใช้งาน private\n",
    "การประกาศ Field, Property, หรือ Method ที่ต้องการป้องกันไม่ให้ภายนอกคลาสเข้าถึง\n",
    "ใช้ private สำหรับข้อมูลหรือฟังก์ชันที่ไม่ต้องการเปิดเผย หรือไม่ต้องการให้ใช้งานจากภายนอกคลาสนั้นๆ\n",
    "\n",
    "การใช้ภายในคลาสเดียวกัน\n",
    "คุณสามารถเข้าถึงสมาชิก private ได้เฉพาะใน คลาสเดียวกัน ซึ่งทำให้เป็นการจำกัดการเข้าถึงภายในคลาสนั้นๆ โดยไม่สามารถเข้าถึงจากคลาสอื่น"
   ]
  },
  {
   "cell_type": "markdown",
   "metadata": {},
   "source": []
  },
  {
   "cell_type": "markdown",
   "metadata": {},
   "source": [
    "2.3 protected\n"
   ]
  },
  {
   "cell_type": "markdown",
   "metadata": {},
   "source": [
    "*คำตอบ*"
   ]
  },
  {
   "cell_type": "markdown",
   "metadata": {},
   "source": [
    "ขอบเขตและการใช้งานของ protected Access Modifier\n",
    "🔹 ขอบเขตของ protected\n",
    "protected เป็น Access Modifier ที่ อนุญาตให้สมาชิกของคลาสสามารถเข้าถึงได้จากคลาสที่สืบทอด (inheritance) และ ภายในคลาสเดียวกัน\n",
    "\n",
    "ไม่สามารถเข้าถึงจากคลาสอื่นที่ไม่ใช่คลาสที่สืบทอดได้\n",
    "\n",
    "เป็นการให้ การเข้าถึงที่ยืดหยุ่น โดยการอนุญาตให้คลาสที่สืบทอดจากคลาสนั้นสามารถใช้งานสมาชิก protected ได้ แต่ยังคงจำกัดการเข้าถึงจากภายนอกคลาสและคลาสที่ไม่เกี่ยวข้อง\n",
    "\n",
    "🔹 การใช้งาน protected\n",
    "การประกาศ Field, Property หรือ Method ที่ต้องการให้คลาสที่สืบทอดสามารถเข้าถึงได้\n",
    "ใช้ protected เมื่อคุณต้องการให้สมาชิกนั้นๆ สามารถเข้าถึงได้จากคลาสที่สืบทอดจากคลาสนี้ แต่ไม่ต้องการให้สามารถเข้าถึงจากภายนอกคลาสอื่นๆ\n",
    "\n",
    "การใช้ในคลาสที่มีการสืบทอด\n",
    "เมื่อคุณประกาศสมาชิก protected ในคลาสแม่ (base class) คลาสลูก (derived class) สามารถเข้าถึงสมาชิกเหล่านั้นได้แม้จะไม่ได้ประกาศว่าเป็น public"
   ]
  },
  {
   "cell_type": "markdown",
   "metadata": {},
   "source": []
  },
  {
   "cell_type": "markdown",
   "metadata": {},
   "source": [
    "2.4 internal\n"
   ]
  },
  {
   "cell_type": "markdown",
   "metadata": {},
   "source": [
    "*คำตอบ*"
   ]
  },
  {
   "cell_type": "markdown",
   "metadata": {},
   "source": [
    "ขอบเขตและการใช้งานของ internal Access Modifier\n",
    "🔹 ขอบเขตของ internal\n",
    "internal เป็น Access Modifier ที่ อนุญาตให้สมาชิกของคลาสหรือเมธอดสามารถเข้าถึงได้ภายใน Assembly เดียวกัน (โปรเจคเดียวกัน) เท่านั้น\n",
    "\n",
    "ไม่สามารถเข้าถึงได้จากโปรเจคอื่นๆ หรือ Assembly อื่นๆ ถึงแม้จะมีการอ้างอิง Assembly ดังกล่าว\n",
    "\n",
    "ใช้เพื่อจำกัดการเข้าถึง ข้อมูลหรือฟังก์ชันให้เป็นภายในโปรเจคเดียวกันและไม่เปิดเผยต่อโปรเจคภายนอก\n",
    "\n",
    "🔹 การใช้งาน internal\n",
    "การประกาศสมาชิกที่ไม่ต้องการเปิดเผยภายนอก Assembly\n",
    "ใช้ internal เมื่อคุณต้องการให้ฟังก์ชันหรือข้อมูลสามารถเข้าถึงได้ภายใน Assembly เดียวกัน แต่ไม่ต้องการให้ภายนอกโปรเจค (Assembly อื่น) เข้าถึงได้\n",
    "\n",
    "การใช้งานในหลายๆ คลาสภายใน Assembly เดียวกัน\n",
    "สามารถเข้าถึงสมาชิก internal ได้จากทุกคลาสใน Assembly เดียวกัน แต่ไม่สามารถเข้าถึงได้จาก Assembly อื่น"
   ]
  },
  {
   "cell_type": "markdown",
   "metadata": {},
   "source": []
  },
  {
   "cell_type": "markdown",
   "metadata": {},
   "source": [
    "2.5 protected internal"
   ]
  },
  {
   "cell_type": "markdown",
   "metadata": {},
   "source": [
    "*คำตอบ*"
   ]
  },
  {
   "cell_type": "markdown",
   "metadata": {},
   "source": [
    "ขอบเขตและการใช้งานของ protected internal Access Modifier\n",
    "🔹 ขอบเขตของ protected internal\n",
    "protected internal เป็น Access Modifier ที่ ผสมผสานระหว่าง protected และ internal\n",
    "\n",
    "สมาชิกที่ประกาศเป็น protected internal สามารถเข้าถึงได้จาก:\n",
    "\n",
    "คลาสที่สืบทอด (ผ่าน protected)\n",
    "\n",
    "ภายใน Assembly เดียวกัน (ผ่าน internal)\n",
    "\n",
    "แต่ไม่สามารถเข้าถึงได้จากโปรเจคหรือ Assembly อื่นๆ ที่ไม่ใช่คลาสที่สืบทอดหรืออยู่ใน Assembly เดียวกัน\n",
    "\n",
    "🔹 ข้อแตกต่างระหว่าง protected, internal, และ protected internal\n",
    "protected: สามารถเข้าถึงได้ภายในคลาสที่สืบทอดจากคลาสแม่เท่านั้น\n",
    "\n",
    "internal: สามารถเข้าถึงได้จากภายใน Assembly เดียวกัน\n",
    "\n",
    "protected internal: สามารถเข้าถึงได้ทั้งจากภายใน Assembly เดียวกันและจากคลาสที่สืบทอดใน Assembly อื่น\n",
    "\n",
    "🔹 การใช้งาน protected internal\n",
    "การประกาศสมาชิกที่ต้องการให้เข้าถึงได้จากภายใน Assembly เดียวกันและคลาสที่สืบทอด\n",
    "ใช้ protected internal เมื่อคุณต้องการให้สมาชิกสามารถเข้าถึงได้จาก:\n",
    "\n",
    "ภายใน Assembly เดียวกัน\n",
    "\n",
    "คลาสที่สืบทอดจากคลาสนี้ (ไม่จำเป็นต้องอยู่ใน Assembly เดียวกัน)\n",
    "\n",
    "การใช้งานที่ยืดหยุ่น\n",
    "เป็นการอนุญาตให้สามารถใช้สมาชิกได้ทั้งในคลาสที่สืบทอดและในโปรเจคเดียวกัน แต่ไม่เปิดเผยให้กับโปรเจคอื่นๆ"
   ]
  },
  {
   "cell_type": "markdown",
   "metadata": {},
   "source": []
  },
  {
   "cell_type": "markdown",
   "metadata": {},
   "source": [
    "3. ถ้าแก้ไขโค้ดในบรรทัดที่ 14 เป็นดังต่อไปนี้  จะได้ผลการ build หรือ run เป็นอย่างไร \n",
    "```csharp\n",
    "    private int income;\n",
    "```"
   ]
  },
  {
   "cell_type": "code",
   "execution_count": 2,
   "metadata": {
    "dotnet_interactive": {
     "language": "csharp"
    },
    "polyglot_notebook": {
     "kernelName": "csharp"
    }
   },
   "outputs": [
    {
     "ename": "Error",
     "evalue": "(5,4): error CS0122: 'Person.income' is inaccessible due to its protection level\r\n(9,43): error CS0122: 'Person.income' is inaccessible due to its protection level\r\n(9,62): error CS0122: 'Person.income' is inaccessible due to its protection level",
     "output_type": "error",
     "traceback": [
      "(5,4): error CS0122: 'Person.income' is inaccessible due to its protection level\r\n",
      "(9,43): error CS0122: 'Person.income' is inaccessible due to its protection level\r\n",
      "(9,62): error CS0122: 'Person.income' is inaccessible due to its protection level"
     ]
    }
   ],
   "source": [
    "// พื้นที่เขียน code และทดสอบ\n",
    " Person p = new Person();\n",
    " p.name = \"Rambo\";\n",
    " p.id = \"1987\";\n",
    " p.income = 2500;\n",
    " System.Console.WriteLine($\"Type of p is {p.GetType()}\");\n",
    " System.Console.WriteLine($\"p.name = {p.name}\\ttype = {p.name.GetType()}\");\n",
    " System.Console.WriteLine($\"p.id = {p.id}\\ttype = {p.id.GetType()}\");\n",
    " System.Console.WriteLine($\"p.income = {p.income}\\ttype = {p.income.GetType()}\");\n",
    " \n",
    " class Person\n",
    " {\n",
    "     public string? name;\n",
    "     public string? id;\n",
    "     private int income;\n",
    " }"
   ]
  },
  {
   "cell_type": "markdown",
   "metadata": {},
   "source": [
    "*คำตอบ*"
   ]
  },
  {
   "cell_type": "markdown",
   "metadata": {},
   "source": [
    "Error: (5,4): error CS0122: 'Person.income' is inaccessible due to its protection level\n",
    "(9,43): error CS0122: 'Person.income' is inaccessible due to its protection level\n",
    "(9,62): error CS0122: 'Person.income' is inaccessible due to its protection level"
   ]
  },
  {
   "cell_type": "markdown",
   "metadata": {},
   "source": []
  },
  {
   "cell_type": "markdown",
   "metadata": {},
   "source": [
    "4. ถ้าแก้ไขโค้ดในบรรทัดที่ 13 เป็นดังต่อไปนี้  จะได้ผลการ build หรือ run เป็นอย่างไร \n",
    "```csharp\n",
    "    protected string? name;\n",
    "```"
   ]
  },
  {
   "cell_type": "code",
   "execution_count": 3,
   "metadata": {
    "dotnet_interactive": {
     "language": "csharp"
    },
    "polyglot_notebook": {
     "kernelName": "csharp"
    }
   },
   "outputs": [
    {
     "ename": "Error",
     "evalue": "(14,24): error CS0102: The type 'Person' already contains a definition for 'name'\r\n(4,4): error CS1061: 'Person' does not contain a definition for 'id' and no accessible extension method 'id' accepting a first argument of type 'Person' could be found (are you missing a using directive or an assembly reference?)\r\n(5,4): error CS0122: 'Person.income' is inaccessible due to its protection level\r\n(8,39): error CS1061: 'Person' does not contain a definition for 'id' and no accessible extension method 'id' accepting a first argument of type 'Person' could be found (are you missing a using directive or an assembly reference?)\r\n(8,54): error CS1061: 'Person' does not contain a definition for 'id' and no accessible extension method 'id' accepting a first argument of type 'Person' could be found (are you missing a using directive or an assembly reference?)\r\n(9,43): error CS0122: 'Person.income' is inaccessible due to its protection level\r\n(9,62): error CS0122: 'Person.income' is inaccessible due to its protection level",
     "output_type": "error",
     "traceback": [
      "(14,24): error CS0102: The type 'Person' already contains a definition for 'name'\r\n",
      "(4,4): error CS1061: 'Person' does not contain a definition for 'id' and no accessible extension method 'id' accepting a first argument of type 'Person' could be found (are you missing a using directive or an assembly reference?)\r\n",
      "(5,4): error CS0122: 'Person.income' is inaccessible due to its protection level\r\n",
      "(8,39): error CS1061: 'Person' does not contain a definition for 'id' and no accessible extension method 'id' accepting a first argument of type 'Person' could be found (are you missing a using directive or an assembly reference?)\r\n",
      "(8,54): error CS1061: 'Person' does not contain a definition for 'id' and no accessible extension method 'id' accepting a first argument of type 'Person' could be found (are you missing a using directive or an assembly reference?)\r\n",
      "(9,43): error CS0122: 'Person.income' is inaccessible due to its protection level\r\n",
      "(9,62): error CS0122: 'Person.income' is inaccessible due to its protection level"
     ]
    }
   ],
   "source": [
    "// พื้นที่เขียน code และทดสอบ\n",
    " Person p = new Person();\n",
    " p.name = \"Rambo\";\n",
    " p.id = \"1987\";\n",
    " p.income = 2500;\n",
    " System.Console.WriteLine($\"Type of p is {p.GetType()}\");\n",
    " System.Console.WriteLine($\"p.name = {p.name}\\ttype = {p.name.GetType()}\");\n",
    " System.Console.WriteLine($\"p.id = {p.id}\\ttype = {p.id.GetType()}\");\n",
    " System.Console.WriteLine($\"p.income = {p.income}\\ttype = {p.income.GetType()}\");\n",
    " \n",
    " class Person\n",
    " {\n",
    "     public string? name;\n",
    "     protected string? name;\n",
    "     private int income;\n",
    " }"
   ]
  },
  {
   "cell_type": "markdown",
   "metadata": {},
   "source": [
    "*คำตอบ*"
   ]
  },
  {
   "cell_type": "markdown",
   "metadata": {},
   "source": [
    "Error: (14,24): error CS0102: The type 'Person' already contains a definition for 'name'\n",
    "(4,4): error CS1061: 'Person' does not contain a definition for 'id' and no accessible extension method 'id' accepting a first argument of type 'Person' could be found (are you missing a using directive or an assembly reference?)\n",
    "(5,4): error CS0122: 'Person.income' is inaccessible due to its protection level\n",
    "(8,39): error CS1061: 'Person' does not contain a definition for 'id' and no accessible extension method 'id' accepting a first argument of type 'Person' could be found (are you missing a using directive or an assembly reference?)\n",
    "(8,54): error CS1061: 'Person' does not contain a definition for 'id' and no accessible extension method 'id' accepting a first argument of type 'Person' could be found (are you missing a using directive or an assembly reference?)\n",
    "(9,43): error CS0122: 'Person.income' is inaccessible due to its protection level\n",
    "(9,62): error CS0122: 'Person.income' is inaccessible due to its protection leve"
   ]
  },
  {
   "cell_type": "markdown",
   "metadata": {},
   "source": []
  },
  {
   "cell_type": "markdown",
   "metadata": {},
   "source": [
    "3. เครื่องหมาย `?` ในบรรทัดที่ 13 `protected string? name;` มีความหมายว่าอย่างไร  "
   ]
  },
  {
   "cell_type": "markdown",
   "metadata": {},
   "source": [
    "*คำตอบ*"
   ]
  },
  {
   "cell_type": "markdown",
   "metadata": {},
   "source": [
    "ในภาษา C#, เครื่องหมาย ? ที่ใช้ในบรรทัด protected string? name; เป็น nullable reference type ซึ่งมีความหมายว่า ตัวแปร name สามารถเก็บค่า null ได้ โดยที่ไม่จำเป็นต้องเป็นค่าเริ่มต้นที่ไม่สามารถเป็น null ได้ (เช่น ค่า string ปกติจะไม่สามารถเก็บค่า null ได้หากไม่ได้ใช้ ?)\n",
    "\n",
    "รายละเอียดการใช้ ? กับ Reference Type\n",
    "string? หมายความว่า ตัวแปร name สามารถเก็บค่า string ได้ หรือ null ก็ได้\n",
    "\n",
    "ก่อนที่ C# จะรองรับ nullable reference types (ตั้งแต่ C# 8.0) ตัวแปรประเภท reference (เช่น string, object, หรือ class อื่นๆ) ไม่สามารถเก็บค่า null ได้โดยตรง หากไม่ได้ใช้งานในรูปแบบที่ระบุว่าอนุญาตให้เป็น null\n",
    "\n",
    "การใช้ ? ระบุว่าตัวแปรนั้นสามารถเก็บค่า null ได้ โดยทำให้โค้ดสามารถจัดการกับค่าที่เป็น null ได้อย่างปลอดภัยมากขึ้น\n",
    "\n",
    "เครื่องหมาย ? ใช้กับ reference type (เช่น string, object) เพื่อระบุว่าตัวแปรนั้นสามารถเก็บค่า null ได้\n",
    "\n",
    "การใช้ string? ในบรรทัด protected string? name; หมายความว่า ตัวแปร name สามารถเก็บค่าเป็น string หรือ null ก็ได้"
   ]
  },
  {
   "cell_type": "markdown",
   "metadata": {},
   "source": []
  }
 ],
 "metadata": {
  "kernelspec": {
   "display_name": ".NET (C#)",
   "language": "C#",
   "name": ".net-csharp"
  },
  "polyglot_notebook": {
   "kernelInfo": {
    "defaultKernelName": "csharp",
    "items": [
     {
      "aliases": [],
      "languageName": "csharp",
      "name": "csharp"
     }
    ]
   }
  }
 },
 "nbformat": 4,
 "nbformat_minor": 2
}
