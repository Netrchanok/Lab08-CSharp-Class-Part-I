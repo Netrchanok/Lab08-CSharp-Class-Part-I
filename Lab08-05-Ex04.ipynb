{
 "cells": [
  {
   "cell_type": "markdown",
   "metadata": {},
   "source": [
    "# Lab 8 Exercise 4\n",
    "\n",
    "## Fields declaration and initialization\n",
    "\n"
   ]
  },
  {
   "cell_type": "markdown",
   "metadata": {},
   "source": [
    "\n",
    "1. สร้าง console application project\n",
    "\n",
    "```\n",
    "    dotnet new console --name Lab08_Ex04\n",
    "```\n"
   ]
  },
  {
   "cell_type": "markdown",
   "metadata": {},
   "source": [
    "\n",
    "2. เปลี่ยน code ให้เป็นดังต่อไปนี้\n",
    "\n",
    "> ```csharp\n",
    ">  1. var myObj = new MyClass();\n",
    ">  2. \n",
    ">  3. System.Console.WriteLine($\"Default integer      F1 = {myObj.F1}\");  //Implicit fields initialization\n",
    ">  4. System.Console.WriteLine($\"Default string       F2 = {myObj.F2}\");\n",
    ">  5. System.Console.WriteLine($\"Initialized integer  F3 = {myObj.F3}\");  //Explicit field initialization\n",
    ">  6. System.Console.WriteLine($\"Initialized string   F4 = {myObj.F4}\");\n",
    ">  7. \n",
    ">  8. class MyClass\n",
    ">  9. {\n",
    "> 10.    public int F1;\n",
    "> 11.    public string F2;\n",
    "> 12.    public int F3 = 100;\n",
    "> 13.    public string F4 = \"ASDF\";\n",
    "> 14. }\n",
    "> ```"
   ]
  },
  {
   "cell_type": "markdown",
   "metadata": {},
   "source": [
    "\n",
    "3. Build project โดยการใช้คำสั่ง\n",
    "\n",
    "```\n",
    "    dotnet build  Lab08_Ex04\n",
    "```"
   ]
  },
  {
   "cell_type": "markdown",
   "metadata": {},
   "source": [
    "\n",
    "4. บันทึกผลที่ได้จากการรันคำสั่งในข้อ 3\n"
   ]
  },
  {
   "cell_type": "markdown",
   "metadata": {},
   "source": [
    "*คำตอบ*"
   ]
  },
  {
   "cell_type": "markdown",
   "metadata": {},
   "source": [
    "Restore complete (0.3s)\n",
    "  Lab08_Ex04 succeeded with 3 warning(s) (2.5s) → Lab08_Ex04\\bin\\Debug\\net9.0\\Lab08_Ex04.dll\n",
    "    D:\\LAB8-OOP\\Lab08_Ex04\\Program.cs(11,19): warning CS8618: Non-nullable field 'F2' must contain a non-null value when exiting constructor. Consider adding the 'required' modifier or declaring the field as nullable.\n",
    "    D:\\LAB8-OOP\\Lab08_Ex04\\Program.cs(10,16): warning CS0649: Field 'MyClass.F1' is never assigned to, and will always have its default value 0\n",
    "    D:\\LAB8-OOP\\Lab08_Ex04\\Program.cs(11,19): warning CS0649: Field 'MyClass.F2' is never assigned to, and will always have its default value null\n",
    "\n",
    "Build succeeded with 3 warning(s) in 3.6s"
   ]
  },
  {
   "cell_type": "markdown",
   "metadata": {},
   "source": []
  },
  {
   "cell_type": "markdown",
   "metadata": {},
   "source": [
    "\n",
    "5. Run project โดยการใช้คำสั่ง\n",
    "\n",
    "```\n",
    "    dotnet run --project Lab08_Ex04\n",
    "```"
   ]
  },
  {
   "cell_type": "markdown",
   "metadata": {},
   "source": [
    "\n",
    "6. บันทึกผลที่ได้จากการรันคำสั่งในข้อ 5\n",
    "\n"
   ]
  },
  {
   "cell_type": "markdown",
   "metadata": {},
   "source": [
    "*คำตอบ*"
   ]
  },
  {
   "cell_type": "markdown",
   "metadata": {},
   "source": [
    "Default integer      F1 = 0\n",
    "Default string       F2 = \n",
    "Initialized integer  F3 = 100\n",
    "Initialized string   F4 = ASDF"
   ]
  },
  {
   "cell_type": "markdown",
   "metadata": {},
   "source": []
  },
  {
   "cell_type": "markdown",
   "metadata": {},
   "source": [
    "7. อธิบายสิ่งที่พบในการทดลอง"
   ]
  },
  {
   "cell_type": "markdown",
   "metadata": {},
   "source": [
    "*คำตอบ*"
   ]
  },
  {
   "cell_type": "markdown",
   "metadata": {},
   "source": []
  },
  {
   "cell_type": "markdown",
   "metadata": {},
   "source": [
    "8. นำ code ในข้อ 2 มารันบน polyglot notebook  โดยใส่ใน  code cell ด้านล่างนี้\n"
   ]
  },
  {
   "cell_type": "code",
   "execution_count": 1,
   "metadata": {
    "dotnet_interactive": {
     "language": "csharp"
    },
    "polyglot_notebook": {
     "kernelName": "csharp"
    }
   },
   "outputs": [
    {
     "name": "stdout",
     "output_type": "stream",
     "text": [
      "Default integer      F1 = 0\n",
      "Default string       F2 = \n",
      "Initialized integer  F3 = 100\n",
      "Initialized string   F4 = ASDF\n"
     ]
    }
   ],
   "source": [
    "// พื้นที่เขียน code ตามข้อ 2\n",
    " var myObj = new MyClass();\n",
    " \n",
    " System.Console.WriteLine($\"Default integer      F1 = {myObj.F1}\");  //Implicit fields initialization\n",
    " System.Console.WriteLine($\"Default string       F2 = {myObj.F2}\");\n",
    " System.Console.WriteLine($\"Initialized integer  F3 = {myObj.F3}\");  //Explicit field initialization\n",
    " System.Console.WriteLine($\"Initialized string   F4 = {myObj.F4}\");\n",
    " \n",
    " class MyClass\n",
    " {\n",
    "    public int F1;\n",
    "    public string F2;\n",
    "    public int F3 = 100;\n",
    "    public string F4 = \"ASDF\";\n",
    " }"
   ]
  },
  {
   "cell_type": "markdown",
   "metadata": {},
   "source": [
    "8.1 ผลการรันเป็นอย่างไร\n",
    "\n"
   ]
  },
  {
   "cell_type": "markdown",
   "metadata": {},
   "source": [
    "*คำตอบ*"
   ]
  },
  {
   "cell_type": "markdown",
   "metadata": {},
   "source": [
    "สามารถรันผ่านแล้วก็ขึ้นผลลัพธ์"
   ]
  },
  {
   "cell_type": "markdown",
   "metadata": {},
   "source": []
  },
  {
   "cell_type": "markdown",
   "metadata": {},
   "source": [
    "8.2 เหมือนหรือต่างจาก console application อย่างไร"
   ]
  },
  {
   "cell_type": "markdown",
   "metadata": {},
   "source": [
    "*คำตอบ*"
   ]
  },
  {
   "cell_type": "markdown",
   "metadata": {},
   "source": [
    "ผลลัพธ์เหมือนกันไม่ว่าจะรันใน Console Application หรือ Polyglot Notebook แต่สถานที่ที่ผลลัพธ์จะแสดงออกมาอาจจะแตกต่างกัน (Console vs Notebook UI)"
   ]
  },
  {
   "cell_type": "markdown",
   "metadata": {},
   "source": []
  },
  {
   "cell_type": "markdown",
   "metadata": {},
   "source": [
    "## คำถาม"
   ]
  },
  {
   "cell_type": "markdown",
   "metadata": {},
   "source": [
    "1. Field ในภาษา C# คืออะไร\n"
   ]
  },
  {
   "cell_type": "markdown",
   "metadata": {},
   "source": [
    "*คำตอบ*"
   ]
  },
  {
   "cell_type": "markdown",
   "metadata": {},
   "source": [
    "Field ในภาษา C# คือ ตัวแปร (Variable) ที่ถูกประกาศไว้ภายในคลาส (Class) หรือโครงสร้าง (Struct) เพื่อเก็บค่าหรือข้อมูลของอ็อบเจ็กต์ (Object)\n",
    "\n",
    "🔹 Field จะเป็นส่วนหนึ่งของ Object และสามารถเก็บค่าได้ตลอดอายุของ Object\n",
    "🔹 Field สามารถมี Modifiers เช่น public, private, static, readonly ได้"
   ]
  },
  {
   "cell_type": "markdown",
   "metadata": {},
   "source": []
  },
  {
   "cell_type": "markdown",
   "metadata": {},
   "source": [
    "2. Field มีหน้าที่อะไรใน class \n"
   ]
  },
  {
   "cell_type": "markdown",
   "metadata": {},
   "source": [
    "*คำตอบ*"
   ]
  },
  {
   "cell_type": "markdown",
   "metadata": {},
   "source": [
    "หน้าที่ของ Field ใน Class\n",
    "1️⃣ เก็บสถานะ (State) ของ Object\n",
    "\n",
    "Field ถูกใช้เพื่อเก็บค่าข้อมูลที่เกี่ยวข้องกับอ็อบเจ็กต์ เช่น ชื่อ, อายุ, เงินเดือน\n",
    "\n",
    "ข้อมูลใน Field เป็น คุณสมบัติของอ็อบเจ็กต์ และสามารถเปลี่ยนแปลงได้\n",
    "\n",
    "2️⃣ ช่วยให้ Object มีข้อมูลเฉพาะตัว\n",
    "\n",
    "แต่ละอ็อบเจ็กต์ที่ถูกสร้างจาก Class สามารถมีค่าของ Field ที่แตกต่างกันได้\n",
    "\n",
    "ทำให้สามารถจำลองสิ่งต่าง ๆ ในโลกความเป็นจริงได้ดีขึ้น\n",
    "\n",
    "3️⃣ ใช้ในการคำนวณหรือประมวลผลข้อมูลใน Class\n",
    "\n",
    "Field สามารถเก็บค่าที่ใช้ในการคำนวณหรือใช้ในเมธอดของคลาสได้\n",
    "\n",
    "4️⃣ ใช้แชร์ข้อมูลระหว่างเมธอดภายในคลาส\n",
    "\n",
    "Field สามารถถูกอ่านหรือเขียนจากเมธอดต่าง ๆ ภายในคลาสเดียวกัน\n",
    "\n",
    "5️⃣ ใช้เป็นค่าเริ่มต้นของอ็อบเจ็กต์\n",
    "\n",
    "สามารถกำหนดค่าเริ่มต้นให้ Field ได้ เมื่ออ็อบเจ็กต์ถูกสร้าง"
   ]
  },
  {
   "cell_type": "markdown",
   "metadata": {},
   "source": []
  },
  {
   "cell_type": "markdown",
   "metadata": {},
   "source": [
    "3. การประกาศ Field ทำได้อย่างไร"
   ]
  },
  {
   "cell_type": "markdown",
   "metadata": {},
   "source": [
    "*คำตอบ*"
   ]
  },
  {
   "cell_type": "markdown",
   "metadata": {},
   "source": [
    "การประกาศ Field สามารถทำได้โดยการระบุประเภทข้อมูลและชื่อของ field ภายใน คลาส หรือ สตรัค (struct) ซึ่งสามารถประกาศได้ทั้งในรูปแบบ implicit initialization (การกำหนดค่าเริ่มต้น) หรือ explicit initialization (การกำหนดค่าเริ่มต้นอย่างชัดเจน)"
   ]
  },
  {
   "cell_type": "markdown",
   "metadata": {},
   "source": []
  },
  {
   "cell_type": "markdown",
   "metadata": {},
   "source": [
    "4. Implicit fields initialization  คืออะไร"
   ]
  },
  {
   "cell_type": "markdown",
   "metadata": {},
   "source": [
    "*คำตอบ*"
   ]
  },
  {
   "cell_type": "markdown",
   "metadata": {},
   "source": [
    "Implicit Fields Initialization คือ การที่ C# กำหนดค่าเริ่มต้นให้กับฟิลด์ (fields) ในกรณีที่ไม่ได้กำหนดค่าเริ่มต้นให้กับฟิลด์เองเมื่อทำการประกาศ\n",
    "\n",
    "ในภาษา C#, ฟิลด์ที่ไม่ได้รับการกำหนดค่าเริ่มต้นจะถูก กำหนดค่าเริ่มต้นโดยอัตโนมัติ โดยคอมไพเลอร์ ซึ่งขึ้นอยู่กับประเภทของข้อมูลที่ใช้เป็นฟิลด์ (เช่น int, string, bool เป็นต้น) ดังนี้:\n",
    "\n",
    "ค่าเริ่มต้นที่คอมไพเลอร์กำหนดให้ฟิลด์ (Implicit Initialization)\n",
    "Value Types เช่น int, float, bool จะได้รับค่าเริ่มต้นที่เป็นค่าพื้นฐานของประเภทนั้น\n",
    "\n",
    "int → 0\n",
    "\n",
    "float → 0.0f\n",
    "\n",
    "bool → false\n",
    "\n",
    "Reference Types เช่น string, object, หรือ class จะได้รับค่าเริ่มต้นเป็น null\n",
    "\n",
    "string → null\n",
    "\n",
    "object → null\n",
    "\n",
    "class → null"
   ]
  },
  {
   "cell_type": "markdown",
   "metadata": {},
   "source": []
  },
  {
   "cell_type": "markdown",
   "metadata": {},
   "source": [
    "5. Explicit field initialization คืออะไร\n",
    "\n"
   ]
  },
  {
   "cell_type": "markdown",
   "metadata": {},
   "source": [
    "*คำตอบ*"
   ]
  },
  {
   "cell_type": "markdown",
   "metadata": {},
   "source": [
    "Explicit Field Initialization คือ การกำหนดค่าเริ่มต้นให้กับฟิลด์ในขณะที่ทำการประกาศฟิลด์ภายในคลาส โดยการกำหนดค่านี้จะทำให้ฟิลด์นั้นมีค่าตามที่เราเลือกไว้ทันทีที่มีการสร้างอ็อบเจ็กต์ของคลาส\n",
    "\n",
    "การกำหนดค่าเริ่มต้น (Explicit Initialization)\n",
    "ในการใช้ explicit initialization เราจะกำหนดค่าให้กับฟิลด์ในขณะที่ประกาศฟิลด์นั้นๆ เช่น การกำหนดค่าให้กับฟิลด์ int, string, หรือ bool โดยการกำหนดค่าในรูปแบบที่ระบุชัดเจน"
   ]
  },
  {
   "cell_type": "markdown",
   "metadata": {},
   "source": []
  },
  {
   "cell_type": "markdown",
   "metadata": {},
   "source": [
    "6. Implicit fields initialization  และ Explicit field initialization แตกต่างกันอย่างไร\n",
    "\n"
   ]
  },
  {
   "cell_type": "markdown",
   "metadata": {},
   "source": [
    "*คำตอบ*"
   ]
  },
  {
   "cell_type": "markdown",
   "metadata": {},
   "source": [
    "การแตกต่างระหว่าง Implicit Fields Initialization และ Explicit Fields Initialization อยู่ที่ การกำหนดค่าเริ่มต้น ให้กับฟิลด์ในคลาส:\n",
    "\n",
    "1. Implicit Fields Initialization (การกำหนดค่าเริ่มต้นโดยอัตโนมัติ)\n",
    "Implicit Fields Initialization คือการที่ C# กำหนดค่าเริ่มต้นให้กับฟิลด์โดยอัตโนมัติหากเรายังไม่ได้กำหนดค่าเริ่มต้นให้กับฟิลด์เหล่านั้นเอง\n",
    "\n",
    "ฟิลด์ประเภท Value Types เช่น int, float, bool จะได้รับค่าเริ่มต้นเป็นค่าพื้นฐานของประเภทนั้น (เช่น 0 สำหรับ int, false สำหรับ bool)\n",
    "\n",
    "ฟิลด์ประเภท Reference Types เช่น string, object หรือ class จะได้รับค่าเริ่มต้นเป็น null ถ้าไม่กำหนดค่าเริ่มต้น\n",
    "\n",
    "2. Explicit Fields Initialization (การกำหนดค่าเริ่มต้นอย่างชัดเจน)\n",
    "Explicit Fields Initialization คือการที่เรากำหนดค่าเริ่มต้นให้กับฟิลด์ในขณะที่ประกาศฟิลด์ เพื่อให้ฟิลด์มีค่าเริ่มต้นที่เราต้องการในขณะประกาศ ไม่ต้องรอให้คอมไพเลอร์กำหนดค่าให้เอง\n",
    "\n",
    "ฟิลด์ประเภท Value Types เช่น int, float หรือ bool จะมีค่าเริ่มต้นตามที่เรากำหนด\n",
    "\n",
    "ฟิลด์ประเภท Reference Types เช่น string, object หรือ class จะมีค่าเริ่มต้นตามที่เรากำหนด"
   ]
  },
  {
   "cell_type": "markdown",
   "metadata": {},
   "source": []
  }
 ],
 "metadata": {
  "kernelspec": {
   "display_name": ".NET (C#)",
   "language": "C#",
   "name": ".net-csharp"
  },
  "polyglot_notebook": {
   "kernelInfo": {
    "defaultKernelName": "csharp",
    "items": [
     {
      "aliases": [],
      "languageName": "csharp",
      "name": "csharp"
     }
    ]
   }
  }
 },
 "nbformat": 4,
 "nbformat_minor": 2
}
