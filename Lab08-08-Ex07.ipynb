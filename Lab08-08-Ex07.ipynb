{
 "cells": [
  {
   "cell_type": "markdown",
   "metadata": {
    "dotnet_interactive": {
     "language": "csharp"
    },
    "polyglot_notebook": {
     "kernelName": "csharp"
    }
   },
   "source": [
    "# Lab 8 Exercise 7\n",
    "\n",
    "## Method with parameter and return value"
   ]
  },
  {
   "cell_type": "markdown",
   "metadata": {},
   "source": [
    "1. สร้าง console application project\n",
    "\n",
    "```\n",
    "    dotnet new console --name Lab08_Ex07\n",
    "```"
   ]
  },
  {
   "cell_type": "markdown",
   "metadata": {},
   "source": [
    "2. เปลี่ยน code ให้เป็นดังต่อไปนี้\n",
    "\n",
    "> ```csharp\n",
    ">  1. var adder = new MyProgram();\n",
    ">  2. int x = 2, y = 3;\n",
    ">  3. int add_result = adder.add(x, y);\n",
    ">  4. System.Console.WriteLine($\"{x} + {y} = {add_result}\");\n",
    ">  5. \n",
    ">  6. int i = 2, j = 3;\n",
    ">  7. int multiply_result = adder.multiply(i, j);\n",
    ">  8. System.Console.WriteLine($\"{i} x {j} = {multiply_result}\");\n",
    ">  9. \n",
    "> 10. class MyProgram\n",
    "> 11. {\n",
    "> 12.     public int add(int a, int b)\n",
    "> 13.     {\n",
    "> 14.         return a + b;\n",
    "> 15.     }\n",
    "> 16.     public int multiply(int a, int b)\n",
    "> 17.     {\n",
    "> 18.         return a * b;\n",
    "> 19.     }\n",
    "> 20. }\n",
    "> ```\n",
    "\n"
   ]
  },
  {
   "cell_type": "markdown",
   "metadata": {},
   "source": [
    "3. Build project โดยการใช้คำสั่ง\n",
    "\n",
    "```\n",
    "    dotnet build  Lab08_Ex07\n",
    "```"
   ]
  },
  {
   "cell_type": "markdown",
   "metadata": {},
   "source": [
    "4. บันทึกผลที่ได้จากการรันคำสั่งในข้อ 3\n",
    "\n"
   ]
  },
  {
   "cell_type": "markdown",
   "metadata": {},
   "source": [
    "*คำตอบ*"
   ]
  },
  {
   "cell_type": "markdown",
   "metadata": {},
   "source": [
    "Restore complete (0.3s)\n",
    "  Lab08_Ex07 succeeded (2.2s) → Lab08_Ex07\\bin\\Debug\\net9.0\\Lab08_Ex07.dll\n",
    "\n",
    "Build succeeded in 3.1s"
   ]
  },
  {
   "cell_type": "markdown",
   "metadata": {},
   "source": []
  },
  {
   "cell_type": "markdown",
   "metadata": {},
   "source": [
    "5. Run project โดยการใช้คำสั่ง\n",
    "\n",
    "```\n",
    "    dotnet run --project Lab08_Ex07\n",
    "```"
   ]
  },
  {
   "cell_type": "markdown",
   "metadata": {},
   "source": [
    "6. บันทึกผลที่ได้จากการรันคำสั่งในข้อ 5\n",
    "\n",
    "\n",
    "\n"
   ]
  },
  {
   "cell_type": "markdown",
   "metadata": {},
   "source": [
    "*คำตอบ*"
   ]
  },
  {
   "cell_type": "markdown",
   "metadata": {},
   "source": [
    "2 + 3 = 5\n",
    "2 x 3 = 6"
   ]
  },
  {
   "cell_type": "markdown",
   "metadata": {},
   "source": []
  },
  {
   "cell_type": "markdown",
   "metadata": {},
   "source": [
    "7. อธิบายสิ่งที่พบในการทดลอง\n",
    "\n"
   ]
  },
  {
   "cell_type": "markdown",
   "metadata": {},
   "source": [
    "*คำตอบ*"
   ]
  },
  {
   "cell_type": "markdown",
   "metadata": {},
   "source": []
  },
  {
   "cell_type": "markdown",
   "metadata": {},
   "source": [
    "8. นำ code ในข้อ 2 มารันบน polyglot notebook  โดยใส่ใน  code cell ด้านล่างนี้\n"
   ]
  },
  {
   "cell_type": "code",
   "execution_count": 1,
   "metadata": {
    "dotnet_interactive": {
     "language": "csharp"
    },
    "polyglot_notebook": {
     "kernelName": "csharp"
    }
   },
   "outputs": [
    {
     "name": "stdout",
     "output_type": "stream",
     "text": [
      "2 + 3 = 5\n",
      "2 x 3 = 6\n"
     ]
    }
   ],
   "source": [
    "// พื้นที่เขียน code ตามข้อ 2\n",
    " var adder = new MyProgram();\n",
    " int x = 2, y = 3;\n",
    " int add_result = adder.add(x, y);\n",
    " System.Console.WriteLine($\"{x} + {y} = {add_result}\");\n",
    " \n",
    " int i = 2, j = 3;\n",
    " int multiply_result = adder.multiply(i, j);\n",
    " System.Console.WriteLine($\"{i} x {j} = {multiply_result}\");\n",
    " \n",
    " class MyProgram\n",
    " {\n",
    "     public int add(int a, int b)\n",
    "     {\n",
    "         return a + b;\n",
    "     }\n",
    "     public int multiply(int a, int b)\n",
    "     {\n",
    "         return a * b;\n",
    "     }\n",
    " }"
   ]
  },
  {
   "cell_type": "markdown",
   "metadata": {},
   "source": [
    "8.1 ผลการรันเป็นอย่างไร\n",
    "\n"
   ]
  },
  {
   "cell_type": "markdown",
   "metadata": {},
   "source": [
    "*คำตอบ*"
   ]
  },
  {
   "cell_type": "markdown",
   "metadata": {},
   "source": [
    "2 + 3 = 5\n",
    "2 x 3 = 6"
   ]
  },
  {
   "cell_type": "markdown",
   "metadata": {},
   "source": []
  },
  {
   "cell_type": "markdown",
   "metadata": {},
   "source": [
    "8.2 เหมือนหรือต่างจาก console application อย่างไร"
   ]
  },
  {
   "cell_type": "markdown",
   "metadata": {},
   "source": [
    "*คำตอบ*"
   ]
  },
  {
   "cell_type": "markdown",
   "metadata": {},
   "source": [
    "ความเหมือนหรือความแตกต่างกับ Console Application:\n",
    "เหมือน:\n",
    "\n",
    "โค้ดในตัวอย่างนี้สามารถทำงานได้ในทั้ง Console Application และ Polyglot Notebook เช่นเดียวกัน เนื่องจาก C# เป็นภาษาโปรแกรมที่สามารถทำงานในทั้งสองสภาพแวดล้อมได้\n",
    "\n",
    "ผลลัพธ์จากการแสดงผลบนหน้าจอจะเหมือนกัน คือการแสดงผลการคำนวณผลบวกและผลคูณของตัวเลข 2 และ 3\n",
    "\n",
    "แตกต่าง:\n",
    "\n",
    "ใน Console Application คุณจะต้องสร้างไฟล์โปรเจกต์และรันใน IDE เช่น Visual Studio หรือ Visual Studio Code ผ่านการคอมไพล์โปรแกรม\n",
    "\n",
    "ใน Polyglot Notebook คุณสามารถเขียนโค้ดและรันทันทีในรูปแบบ Notebook ซึ่งสามารถสลับระหว่างภาษาได้ และไม่ต้องการการตั้งค่าโปรเจกต์ เช่นเดียวกับ Python หรือภาษาอื่นๆ ใน Notebook ดังกล่าว\n",
    "\n",
    "สรุป:\n",
    "โค้ดที่ให้มาเหมือนกันในทั้ง Console Application และ Polyglot Notebook ในด้านฟังก์ชันการทำงานและผลลัพธ์ที่แสดง แต่ความแตกต่างอยู่ที่วิธีการพัฒนาและรันโค้ดในสภาพแวดล้อมที่ต่างกัน"
   ]
  },
  {
   "cell_type": "markdown",
   "metadata": {},
   "source": []
  },
  {
   "cell_type": "markdown",
   "metadata": {},
   "source": [
    "## คำถาม"
   ]
  },
  {
   "cell_type": "markdown",
   "metadata": {},
   "source": [
    "1. ให้เขียน method ที่รับ parameter เป็น string และส่งกลับค่าความยาวของ string นั้น"
   ]
  },
  {
   "cell_type": "code",
   "execution_count": 2,
   "metadata": {
    "dotnet_interactive": {
     "language": "csharp"
    },
    "polyglot_notebook": {
     "kernelName": "csharp"
    }
   },
   "outputs": [],
   "source": [
    "// พื้นที่เขียน code และทดสอบ\n",
    "using System;\n",
    "\n",
    "class MyClass\n",
    "{\n",
    "    // Method ที่รับ string และส่งกลับค่าความยาวของ string\n",
    "    public int GetStringLength(string input)\n",
    "    {\n",
    "        return input.Length;  // ใช้คุณสมบัติ Length ของ string\n",
    "    }\n",
    "}\n",
    "\n",
    "class Program\n",
    "{\n",
    "    static void Main()\n",
    "    {\n",
    "        MyClass mc = new MyClass();\n",
    "        \n",
    "        // ทดสอบการใช้งานเมธอด GetStringLength\n",
    "        string myString = \"Hello, World!\";\n",
    "        int length = mc.GetStringLength(myString);\n",
    "        \n",
    "        // แสดงผลลัพธ์ความยาวของสตริง\n",
    "        Console.WriteLine($\"The length of the string is: {length}\");  // Output: The length of the string is: 13\n",
    "    }\n",
    "}\n"
   ]
  },
  {
   "cell_type": "markdown",
   "metadata": {},
   "source": [
    "*คำตอบ*"
   ]
  },
  {
   "cell_type": "markdown",
   "metadata": {},
   "source": [
    "The length of the string is: 13\n"
   ]
  },
  {
   "cell_type": "markdown",
   "metadata": {},
   "source": []
  },
  {
   "cell_type": "markdown",
   "metadata": {},
   "source": [
    "2. ให้สร้างโปรแกรมสูตรคูณ โดยประยุกต์ใช้เมธอด  `public int multiply(int a, int b)`\n"
   ]
  },
  {
   "cell_type": "code",
   "execution_count": 3,
   "metadata": {
    "dotnet_interactive": {
     "language": "csharp"
    },
    "polyglot_notebook": {
     "kernelName": "csharp"
    }
   },
   "outputs": [],
   "source": [
    "// พื้นที่เขียน code และทดสอบ\n",
    "using System;\n",
    "\n",
    "class MyProgram\n",
    "{\n",
    "    // เมธอด multiply คำนวณการคูณของตัวเลขสองตัว\n",
    "    public int multiply(int a, int b)\n",
    "    {\n",
    "        return a * b;  // คูณตัวเลขทั้งสองตัวและส่งกลับผลลัพธ์\n",
    "    }\n",
    "\n",
    "    // เมธอดแสดงตารางสูตรคูณของตัวเลข\n",
    "    public void DisplayMultiplicationTable(int number)\n",
    "    {\n",
    "        for (int i = 1; i <= 10; i++)  // แสดงผลสูตรคูณจาก 1 ถึง 10\n",
    "        {\n",
    "            int result = multiply(number, i);  // เรียกเมธอด multiply\n",
    "            Console.WriteLine($\"{number} x {i} = {result}\");  // แสดงผลลัพธ์\n",
    "        }\n",
    "    }\n",
    "}\n",
    "\n",
    "class Program\n",
    "{\n",
    "    static void Main()\n",
    "    {\n",
    "        MyProgram program = new MyProgram();\n",
    "        \n",
    "        // ทดสอบการแสดงสูตรคูณ\n",
    "        Console.WriteLine(\"Enter a number to display the multiplication table:\");\n",
    "        int num = int.Parse(Console.ReadLine());  // รับค่าจากผู้ใช้\n",
    "        program.DisplayMultiplicationTable(num);  // เรียกใช้งานเมธอดแสดงตารางสูตรคูณ\n",
    "    }\n",
    "}\n"
   ]
  },
  {
   "cell_type": "markdown",
   "metadata": {},
   "source": [
    "*คำตอบ*"
   ]
  },
  {
   "cell_type": "markdown",
   "metadata": {},
   "source": [
    "Enter a number to display the multiplication table:\n",
    "3\n",
    "3 x 1 = 3\n",
    "3 x 2 = 6\n",
    "3 x 3 = 9\n",
    "3 x 4 = 12\n",
    "3 x 5 = 15\n",
    "3 x 6 = 18\n",
    "3 x 7 = 21\n",
    "3 x 8 = 24\n",
    "3 x 9 = 27\n",
    "3 x 10 = 30\n"
   ]
  },
  {
   "cell_type": "markdown",
   "metadata": {},
   "source": []
  },
  {
   "cell_type": "markdown",
   "metadata": {},
   "source": [
    "3. จากโปรแกรมในคำถามข้อที่ 2 ให้สร้างเป็นสูตรคูณ แม่ 2 - 12"
   ]
  },
  {
   "cell_type": "code",
   "execution_count": 4,
   "metadata": {
    "dotnet_interactive": {
     "language": "csharp"
    },
    "polyglot_notebook": {
     "kernelName": "csharp"
    }
   },
   "outputs": [],
   "source": [
    "// พื้นที่เขียน code และทดสอบ\n",
    "using System;\n",
    "\n",
    "class MyProgram\n",
    "{\n",
    "    // เมธอด multiply คำนวณการคูณของตัวเลขสองตัว\n",
    "    public int multiply(int a, int b)\n",
    "    {\n",
    "        return a * b;  // คูณตัวเลขทั้งสองตัวและส่งกลับผลลัพธ์\n",
    "    }\n",
    "\n",
    "    // เมธอดแสดงตารางสูตรคูณจากแม่ 2 ถึงแม่ 12\n",
    "    public void DisplayMultiplicationTable(int number)\n",
    "    {\n",
    "        Console.WriteLine($\"Multiplication table for {number}:\");\n",
    "        for (int i = 1; i <= 10; i++)  // แสดงผลสูตรคูณจาก 1 ถึง 10\n",
    "        {\n",
    "            int result = multiply(number, i);  // เรียกเมธอด multiply\n",
    "            Console.WriteLine($\"{number} x {i} = {result}\");  // แสดงผลลัพธ์\n",
    "        }\n",
    "        Console.WriteLine();  // บรรทัดว่างระหว่างแม่\n",
    "    }\n",
    "}\n",
    "\n",
    "class Program\n",
    "{\n",
    "    static void Main()\n",
    "    {\n",
    "        MyProgram program = new MyProgram();\n",
    "        \n",
    "        // แสดงตารางสูตรคูณสำหรับแม่ 2 ถึง 12\n",
    "        for (int i = 2; i <= 12; i++)  // ลูปแสดงสูตรคูณแม่ 2 ถึง 12\n",
    "        {\n",
    "            program.DisplayMultiplicationTable(i);  // เรียกเมธอดแสดงตารางสูตรคูณสำหรับแต่ละแม่\n",
    "        }\n",
    "    }\n",
    "}\n"
   ]
  },
  {
   "cell_type": "markdown",
   "metadata": {},
   "source": [
    "*คำตอบ*"
   ]
  },
  {
   "cell_type": "markdown",
   "metadata": {},
   "source": [
    "Multiplication table for 2:\n",
    "2 x 1 = 2\n",
    "2 x 2 = 4\n",
    "2 x 3 = 6\n",
    "2 x 4 = 8\n",
    "2 x 5 = 10\n",
    "2 x 6 = 12\n",
    "2 x 7 = 14\n",
    "2 x 8 = 16\n",
    "2 x 9 = 18\n",
    "2 x 10 = 20\n",
    "\n",
    "Multiplication table for 3:\n",
    "3 x 1 = 3\n",
    "3 x 2 = 6\n",
    "3 x 3 = 9\n",
    "3 x 4 = 12\n",
    "3 x 5 = 15\n",
    "3 x 6 = 18\n",
    "3 x 7 = 21\n",
    "3 x 8 = 24\n",
    "3 x 9 = 27\n",
    "3 x 10 = 30\n",
    "\n",
    "Multiplication table for 4:\n",
    "4 x 1 = 4\n",
    "4 x 2 = 8\n",
    "4 x 3 = 12\n",
    "4 x 4 = 16\n",
    "4 x 5 = 20\n",
    "4 x 6 = 24\n",
    "4 x 7 = 28\n",
    "4 x 8 = 32\n",
    "4 x 9 = 36\n",
    "4 x 10 = 40\n",
    "\n",
    "Multiplication table for 5:\n",
    "5 x 1 = 5\n",
    "5 x 2 = 10\n",
    "5 x 3 = 15\n",
    "5 x 4 = 20\n",
    "5 x 5 = 25\n",
    "5 x 6 = 30\n",
    "5 x 7 = 35\n",
    "5 x 8 = 40\n",
    "5 x 9 = 45\n",
    "5 x 10 = 50\n",
    "\n",
    "...\n",
    "\n",
    "Multiplication table for 12:\n",
    "12 x 1 = 12\n",
    "12 x 2 = 24\n",
    "12 x 3 = 36\n",
    "12 x 4 = 48\n",
    "12 x 5 = 60\n",
    "12 x 6 = 72\n",
    "12 x 7 = 84\n",
    "12 x 8 = 96\n",
    "12 x 9 = 108\n",
    "12 x 10 = 120\n"
   ]
  },
  {
   "cell_type": "markdown",
   "metadata": {},
   "source": []
  }
 ],
 "metadata": {
  "kernelspec": {
   "display_name": ".NET (C#)",
   "language": "C#",
   "name": ".net-csharp"
  },
  "polyglot_notebook": {
   "kernelInfo": {
    "defaultKernelName": "csharp",
    "items": [
     {
      "aliases": [],
      "languageName": "csharp",
      "name": "csharp"
     }
    ]
   }
  }
 },
 "nbformat": 4,
 "nbformat_minor": 2
}
